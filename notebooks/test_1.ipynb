{
 "cells": [
  {
   "cell_type": "markdown",
   "metadata": {},
   "source": [
    "## Evaluation of models trained on IMDb-Filmdatenbank with test data from Amazon reviews"
   ]
  },
  {
   "cell_type": "markdown",
   "metadata": {},
   "source": [
    "### Prepare Resources"
   ]
  },
  {
   "cell_type": "code",
   "execution_count": 1,
   "metadata": {},
   "outputs": [],
   "source": [
    "import requests\n",
    "import os\n",
    "import tarfile\n",
    "import re\n",
    "\n",
    "import pandas as pd\n",
    "import numpy as np\n",
    "\n",
    "from sklearn.feature_extraction.text import CountVectorizer\n",
    "from sklearn.feature_extraction.text import TfidfTransformer\n",
    "from sklearn.feature_extraction.text import TfidfVectorizer\n",
    "from sklearn.model_selection import train_test_split\n",
    "\n",
    "from sklearn.model_selection import GridSearchCV\n",
    "from sklearn.pipeline import Pipeline\n",
    "from sklearn.linear_model import LogisticRegression\n",
    "\n",
    "import nltk\n",
    "from nltk.stem.porter import PorterStemmer\n",
    "from nltk.corpus import stopwords\n",
    "\n",
    "import pandas as pd\n",
    "import gzip\n",
    "import json\n"
   ]
  },
  {
   "cell_type": "code",
   "execution_count": 8,
   "metadata": {},
   "outputs": [],
   "source": [
    "#### Fetch the data\n",
    "basedir = \"/data/zibaldone/projects/ai/betchelorZhanna/data\"\n",
    "outdir = os.path.join(basedir,'datasets')\n",
    "outdir_zip = os.path.join(basedir,'archives')\n",
    "amazon_filename = os.path.join(outdir_zip, \"All_Amazon_Review.json.gz\")\n",
    "amazon_csv_filename = os.path.join(outdir, \"All_Amazon_Review.csv\")\n",
    "amazon_csv_filename_clean = os.path.join(outdir, \"All_Amazon_Review_clean.csv\")\n",
    "\n",
    "def loadJsonAmazon2PandaFrame(filein, n_max=-1, nameout=None):\n",
    "    fileout = nameout if nameout is not None else filein.replace('json', 'csv')\n",
    "    df = {}\n",
    "    with open(filein) as f:\n",
    "       for n, line in enumerate(f):\n",
    "          if n_max > 0 and n > n_max: break\n",
    "          df[n] = json.loads(line)\n",
    "    df = pd.DataFrame.from_dict(df, orient='index')\n",
    "    df['sentiment'] = df.overall.apply(lambda x : 1 if x <=3 else 0)\n",
    "    df.to_csv(fileout, columns=['sentiment', 'reviewText'], index_label=False)\n",
    "    return df\n",
    "\n",
    "def loadAmazonDataset(filename=amazon_csv_filename_clean):\n",
    "    df = pd.read_csv(filename)\n",
    "    return df\n"
   ]
  },
  {
   "cell_type": "code",
   "execution_count": 1,
   "metadata": {},
   "outputs": [],
   "source": [
    "# df = pandasAmazonReviews2csv(filename, '')"
   ]
  },
  {
   "cell_type": "markdown",
   "metadata": {},
   "source": [
    "### Bibliography\n",
    "\n",
    "[1] _Justifying recommendations using distantly-labeled reviews and fined-grained aspects_ Jianmo Ni, Jiacheng Li, Julian McAuley Empirical Methods in Natural Language Processing (EMNLP), 2019"
   ]
  }
 ],
 "metadata": {
  "kernelspec": {
   "display_name": "venv",
   "language": "python",
   "name": "python3"
  },
  "language_info": {
   "codemirror_mode": {
    "name": "ipython",
    "version": 3
   },
   "file_extension": ".py",
   "mimetype": "text/x-python",
   "name": "python",
   "nbconvert_exporter": "python",
   "pygments_lexer": "ipython3",
   "version": "3.7.1"
  },
  "orig_nbformat": 4
 },
 "nbformat": 4,
 "nbformat_minor": 2
}
