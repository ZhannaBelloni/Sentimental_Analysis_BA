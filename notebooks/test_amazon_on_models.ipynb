{
 "cells": [
  {
   "cell_type": "markdown",
   "metadata": {},
   "source": [
    "## Evaluation of models trained on IMDb-Filmdatenbank with test data from Amazon reviews"
   ]
  },
  {
   "cell_type": "markdown",
   "metadata": {},
   "source": [
    "### Download Resourcen\n",
    "\n",
    "Download and Prepare the dataset ([1], pages 237-239)"
   ]
  },
  {
   "cell_type": "code",
   "execution_count": 1,
   "metadata": {},
   "outputs": [],
   "source": [
    "import requests\n",
    "import os\n",
    "import tarfile\n",
    "import re\n",
    "\n",
    "import sentimental_hwglu.utils as hw_u\n",
    "\n",
    "from sklearn.feature_extraction.text import TfidfVectorizer\n",
    "from sklearn.model_selection import train_test_split\n",
    "\n",
    "from sklearn.model_selection import GridSearchCV\n",
    "from sklearn.pipeline import Pipeline\n",
    "from sklearn.linear_model import LogisticRegression\n",
    "\n",
    "from nltk.corpus import stopwords\n",
    "\n",
    "from sentimental_hwglu.naive_sa import NaiveSA"
   ]
  },
  {
   "cell_type": "code",
   "execution_count": 2,
   "metadata": {},
   "outputs": [
    {
     "name": "stdout",
     "output_type": "stream",
     "text": [
      " downloading http://ai.stanford.edu/~amaas/data/sentiment/aclImdb_v1.tar.gz to /data/zibaldone/projects/ai/betchelorZhanna/data/archives as aclImdb_v1.tar.gz\n",
      " File already downloaded\n",
      " preparing csv /data/zibaldone/projects/ai/betchelorZhanna/data/datasets/aclImdb_v1.csv file for IMDb in directory /data/zibaldone/projects/ai/betchelorZhanna/data/datasets/aclImdb - seed = 0\n",
      " csv file already created\n"
     ]
    }
   ],
   "source": [
    "hw_u.prepareIMDBdataset()\n",
    "df_imdb = hw_u.loadIMDBdataset()\n",
    "df_amz = hw_u.loadAmazonDataset('/data/zibaldone/projects/ai/betchelorZhanna/data/datasets/All_Amazon_Review.csv')\n",
    "df_amz = df_amz[df_amz.reviewText.notnull()]"
   ]
  },
  {
   "cell_type": "markdown",
   "metadata": {},
   "source": [
    "### Ein logistisches Regressionsmodell für die Dokumentklassifizierung trainieren\n",
    "\n",
    "In diesem Abschnitt werden wie ein logistisches Regressionsmodell dafür tranieren, die Filmbewertungen als _positiv_ oder _negativ_ zu klassifieieren.\n",
    "Wir werden:\n",
    "- teilen Dockumenten zum Trainieren und Testen auf\n",
    "- benutzen ein `GridSearch`-Objekt, um mit einer 5-fachen stratifizieren Kreutzvalidierung die optimale Parameterkombination für die logistische Regressionmodell zu finden."
   ]
  },
  {
   "cell_type": "code",
   "execution_count": 4,
   "metadata": {},
   "outputs": [],
   "source": [
    "def amazon_vs_imdb(df_amz, df_imdb, n_train=50000, n_test=50000):\n",
    "    if n_train > 0: X_train, y_train = df_amz.reviewText[:n_train], df_amz.sentiment[:n_train]\n",
    "    else:           X_train, y_train = df_amz.reviewText,           df_amz.sentiment\n",
    "    if n_test > 0:  X_test, y_test = df_imdb.reviews[:n_test], df_imdb.sentiment[:n_test]\n",
    "    else:           X_test, y_test = df_imdb.reviews,          df_imdb.sentiment\n",
    "    return X_train, X_test, y_train, y_test\n",
    "\n",
    "def imdb_vs_amazon(df_amz, df_imdb, n_train=50000, n_test=50000):\n",
    "    if n_train > 0: X_train, y_train = df_imdb.reviews[:n_train], df_imdb.sentiment[:n_train]\n",
    "    else:           X_train, y_train = df_imdb.reviews,           df_imdb.sentiment\n",
    "    if n_test > 0:  X_test, y_test = df_amz.reviewText[:n_test],  df_amz.sentiment[:n_test]\n",
    "    else:           X_test, y_test = df_amz.reviewText,           df_amz.sentiment\n",
    "    return X_train, X_test, y_train, y_test"
   ]
  },
  {
   "cell_type": "markdown",
   "metadata": {},
   "source": [
    "Hier wir benutzen nur ein Parameter:"
   ]
  },
  {
   "cell_type": "code",
   "execution_count": null,
   "metadata": {},
   "outputs": [],
   "source": [
    "def testNaiveVSFtidVect(df_amz_, df_imdb_, n_train=-1, n_test=-1):\n",
    "    scores = {}\n",
    "    for name, f in [['train_on_amazon_test_on_imdb', amazon_vs_imdb], ['train_on_imdb_test_on_amazon', imdb_vs_amazon]]:\n",
    "        print(\" --------------------------------\")\n",
    "        print(\" function: \", name)\n",
    "        X_train, X_test, y_train, y_test = f(df_amz_, df_imdb_, n_train=n_train, n_test=n_test)\n",
    "        # ===================================================================================== #\n",
    "        for tk_name, tk in [['tokenizer', hw_u.tokenizer], ['porter', hw_u.tokenizer_porter]]:\n",
    "            # ===================================================================================== #\n",
    "            score, _ = hw_u.test_naive(X_train, y_train, X_test, y_test, tk=tk, name=name, tk_name=tk_name, model=NaiveSA)\n",
    "            print(\" tokenizier \", tk_name, ' -> ', name, \" NAIVE SA score: \", score)\n",
    "            scores[name + '_' + tk_name + '_' + 'naive'] = score\n",
    "            # ===================================================================================== #\n",
    "            score, _ = hw_u.test_FtidfVectorier(X_train, y_train, X_test, y_test, tk=tk, name=name, tk_name=tk_name)\n",
    "            print(\" tokenizier \", tk_name, ' -> ', name, \" FTidVect score: \", score)\n",
    "            scores[name + '_' + tk_name + '_' + 'FtidfVectorier'] = score\n",
    "            # ===================================================================================== #\n",
    "\n",
    "    for k, v in scores.items():\n",
    "        print(\"[%s] Korrektklassifizierungsrate Test: %.3f\" % (k, v))"
   ]
  },
  {
   "cell_type": "code",
   "execution_count": null,
   "metadata": {},
   "outputs": [],
   "source": [
    "testNaiveVSFtidVect(df_amz, df_imdb)"
   ]
  },
  {
   "cell_type": "markdown",
   "metadata": {},
   "source": [
    "### Bibliography\n",
    "\n",
    "[1] Raschka, Sebastian, Joshua Patterson, and Corey Nolet. _\"Machine learning in python: Main developments and technology trends in data science, machine learning, and artificial intelligence.\"_ Information 11.4 (2020): 193.\n",
    "\n",
    "[2] _Justifying recommendations using distantly-labeled reviews and fined-grained aspects_ Jianmo Ni, Jiacheng Li, Julian McAuley Empirical Methods in Natural Language Processing (EMNLP), 2019"
   ]
  }
 ],
 "metadata": {
  "kernelspec": {
   "display_name": "venv",
   "language": "python",
   "name": "python3"
  },
  "language_info": {
   "codemirror_mode": {
    "name": "ipython",
    "version": 3
   },
   "file_extension": ".py",
   "mimetype": "text/x-python",
   "name": "python",
   "nbconvert_exporter": "python",
   "pygments_lexer": "ipython3",
   "version": "3.7.1"
  },
  "orig_nbformat": 4
 },
 "nbformat": 4,
 "nbformat_minor": 2
}
