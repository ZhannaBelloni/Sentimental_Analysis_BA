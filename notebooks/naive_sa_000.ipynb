{
 "cells": [
  {
   "cell_type": "markdown",
   "metadata": {},
   "source": [
    "## Benchmark: Sentimental Analysis"
   ]
  },
  {
   "cell_type": "code",
   "execution_count": 1,
   "metadata": {},
   "outputs": [],
   "source": [
    "from sentimental_hwglu.naive_sa import NaiveSA\n",
    "from sentimental_hwglu.utils import loadIMDBdataset, tokenizer_porter\n",
    "from sklearn.model_selection import train_test_split"
   ]
  },
  {
   "cell_type": "code",
   "execution_count": null,
   "metadata": {},
   "outputs": [],
   "source": [
    "df = loadIMDBdataset(filename='/data/datasets/aclImdb_vclean.csv')"
   ]
  },
  {
   "cell_type": "code",
   "execution_count": null,
   "metadata": {},
   "outputs": [],
   "source": [
    "def test_naive(X_train, y_train, X_test, y_test, X=None, y=None):\n",
    "    naive_sa = NaiveSA(verbose=True)\n",
    "    naive_sa.fit(X_train, y_train)\n",
    "    score = naive_sa.score(X_test, y_test)\n",
    "    print(\" Score of Native SA test: \", score)\n",
    "    if X is not None:\n",
    "        score_all = naive_sa.score(X, y)\n",
    "        print(\" Score of Native SA all:  \", score_all)\n",
    "    return score, score_all"
   ]
  },
  {
   "cell_type": "code",
   "execution_count": null,
   "metadata": {},
   "outputs": [
    {
     "name": "stdout",
     "output_type": "stream",
     "text": [
      " --------------------\n",
      " running with test_size =  0.002\n",
      " train-size: 100, test-test: 49900\n",
      " fitting data\n",
      " create sets of words\n",
      "    - Processing  0\n",
      "    - Processing  1\n",
      " create_diff_use_stats_of_words\n",
      " create_positive_and_negative_wordse\n",
      "     0 new positive words\n",
      "     0 new negative words\n",
      " calculate score of the model\n",
      " calculate score of the model %)\n",
      " Score of Native SA test:  0.6891382765531062\n",
      " Score of Native SA all:   0.68928\n",
      " --------------------\n",
      " running with test_size =  0.002\n",
      " train-size: 100, test-test: 49900\n",
      " fitting data\n",
      " create sets of words\n",
      "    - Processing  0\n",
      "    - Processing  1\n",
      " create_diff_use_stats_of_words\n",
      " create_positive_and_negative_wordse\n",
      "     0 new positive words\n",
      "     0 new negative words\n",
      " calculate score of the model\n",
      " calculate score of the model %)\n",
      " Score of Native SA test:  0.6893987975951904\n",
      " Score of Native SA all:   0.68928\n",
      " --------------------\n",
      " running with test_size =  0.002\n",
      " train-size: 100, test-test: 49900\n",
      " fitting data\n",
      " create sets of words\n",
      "    - Processing  0\n",
      "    - Processing  1\n",
      " create_diff_use_stats_of_words\n",
      " create_positive_and_negative_wordse\n",
      "     0 new positive words\n",
      "     0 new negative words\n",
      " calculate score of the model\n",
      " calculate score of the model %)\n",
      " Score of Native SA test:  0.6894188376753507\n",
      " Score of Native SA all:   0.68928\n",
      " --------------------\n",
      " running with test_size =  0.002\n",
      " train-size: 100, test-test: 49900\n",
      " fitting data\n",
      " create sets of words\n",
      "    - Processing  0\n",
      "    - Processing  1\n",
      " create_diff_use_stats_of_words\n",
      " create_positive_and_negative_wordse\n",
      "     0 new positive words\n",
      "     0 new negative words\n",
      " calculate score of the model\n",
      " calculate score of the model %)\n",
      " Score of Native SA test:  0.6893787575150301\n",
      " Score of Native SA all:   0.68928\n",
      " --------------------\n",
      " running with test_size =  0.002\n",
      " train-size: 100, test-test: 49900\n",
      " fitting data\n",
      " create sets of words\n",
      "    - Processing  0\n",
      "    - Processing  1\n",
      " create_diff_use_stats_of_words\n",
      " create_positive_and_negative_wordse\n",
      "     0 new positive words\n",
      "     0 new negative words\n",
      " calculate score of the model\n",
      " calculate score of the model %)\n",
      " Score of Native SA test:  0.6892585170340682\n",
      " Score of Native SA all:   0.68928\n",
      " --------------------\n",
      " running with test_size =  0.002\n",
      " train-size: 100, test-test: 49900\n",
      " fitting data\n",
      " create sets of words\n",
      "    - Processing  0\n",
      "    - Processing  1\n",
      " create_diff_use_stats_of_words\n",
      " create_positive_and_negative_wordse\n",
      "     0 new positive words\n",
      "     0 new negative words\n",
      " calculate score of the model\n",
      " calculate score of the model %)\n",
      " processing 26274 / 50000 (52 %)\r"
     ]
    },
    {
     "ename": "KeyboardInterrupt",
     "evalue": "",
     "output_type": "error",
     "traceback": [
      "\u001b[0;31m---------------------------------------------------------------------------\u001b[0m",
      "\u001b[0;31mKeyboardInterrupt\u001b[0m                         Traceback (most recent call last)",
      "\u001b[0;32m/tmp/ipykernel_120574/2864957793.py\u001b[0m in \u001b[0;36m<module>\u001b[0;34m\u001b[0m\n\u001b[1;32m      7\u001b[0m         \u001b[0mX_train\u001b[0m\u001b[0;34m,\u001b[0m \u001b[0mX_test\u001b[0m\u001b[0;34m,\u001b[0m \u001b[0my_train\u001b[0m\u001b[0;34m,\u001b[0m \u001b[0my_test\u001b[0m \u001b[0;34m=\u001b[0m \u001b[0mtrain_test_split\u001b[0m\u001b[0;34m(\u001b[0m\u001b[0mdf\u001b[0m\u001b[0;34m.\u001b[0m\u001b[0mreviews\u001b[0m\u001b[0;34m,\u001b[0m \u001b[0mdf\u001b[0m\u001b[0;34m.\u001b[0m\u001b[0msentiment\u001b[0m\u001b[0;34m,\u001b[0m \u001b[0mtest_size\u001b[0m\u001b[0;34m=\u001b[0m\u001b[0;36m1\u001b[0m \u001b[0;34m-\u001b[0m \u001b[0mn\u001b[0m\u001b[0;34m/\u001b[0m\u001b[0mlen\u001b[0m\u001b[0;34m(\u001b[0m\u001b[0mdf\u001b[0m\u001b[0;34m)\u001b[0m\u001b[0;34m)\u001b[0m\u001b[0;34m\u001b[0m\u001b[0;34m\u001b[0m\u001b[0m\n\u001b[1;32m      8\u001b[0m         \u001b[0mprint\u001b[0m\u001b[0;34m(\u001b[0m\u001b[0;34m\" train-size: {}, test-test: {}\"\u001b[0m\u001b[0;34m.\u001b[0m\u001b[0mformat\u001b[0m\u001b[0;34m(\u001b[0m\u001b[0mlen\u001b[0m\u001b[0;34m(\u001b[0m\u001b[0my_train\u001b[0m\u001b[0;34m)\u001b[0m\u001b[0;34m,\u001b[0m \u001b[0mlen\u001b[0m\u001b[0;34m(\u001b[0m\u001b[0my_test\u001b[0m\u001b[0;34m)\u001b[0m\u001b[0;34m)\u001b[0m\u001b[0;34m)\u001b[0m\u001b[0;34m\u001b[0m\u001b[0;34m\u001b[0m\u001b[0m\n\u001b[0;32m----> 9\u001b[0;31m         \u001b[0ms\u001b[0m\u001b[0;34m,\u001b[0m \u001b[0ms_a\u001b[0m \u001b[0;34m=\u001b[0m \u001b[0mtest_naive\u001b[0m\u001b[0;34m(\u001b[0m\u001b[0mX_train\u001b[0m\u001b[0;34m,\u001b[0m \u001b[0my_train\u001b[0m\u001b[0;34m,\u001b[0m \u001b[0mX_test\u001b[0m\u001b[0;34m,\u001b[0m \u001b[0my_test\u001b[0m\u001b[0;34m,\u001b[0m \u001b[0mdf\u001b[0m\u001b[0;34m.\u001b[0m\u001b[0mreviews\u001b[0m\u001b[0;34m,\u001b[0m \u001b[0mdf\u001b[0m\u001b[0;34m.\u001b[0m\u001b[0msentiment\u001b[0m\u001b[0;34m)\u001b[0m\u001b[0;34m\u001b[0m\u001b[0;34m\u001b[0m\u001b[0m\n\u001b[0m\u001b[1;32m     10\u001b[0m         \u001b[0;32mif\u001b[0m \u001b[0mm\u001b[0m \u001b[0;34m==\u001b[0m \u001b[0;36m0\u001b[0m\u001b[0;34m:\u001b[0m\u001b[0;34m\u001b[0m\u001b[0;34m\u001b[0m\u001b[0m\n\u001b[1;32m     11\u001b[0m             \u001b[0mscores\u001b[0m\u001b[0;34m[\u001b[0m\u001b[0mn\u001b[0m\u001b[0;34m]\u001b[0m \u001b[0;34m=\u001b[0m \u001b[0;34m[\u001b[0m\u001b[0ms\u001b[0m\u001b[0;34m]\u001b[0m\u001b[0;34m\u001b[0m\u001b[0;34m\u001b[0m\u001b[0m\n",
      "\u001b[0;32m/tmp/ipykernel_120574/4100329274.py\u001b[0m in \u001b[0;36mtest_naive\u001b[0;34m(X_train, y_train, X_test, y_test, X, y)\u001b[0m\n\u001b[1;32m      3\u001b[0m     \u001b[0mnaive_sa\u001b[0m\u001b[0;34m.\u001b[0m\u001b[0mfit\u001b[0m\u001b[0;34m(\u001b[0m\u001b[0mX_train\u001b[0m\u001b[0;34m,\u001b[0m \u001b[0my_train\u001b[0m\u001b[0;34m)\u001b[0m\u001b[0;34m\u001b[0m\u001b[0;34m\u001b[0m\u001b[0m\n\u001b[1;32m      4\u001b[0m     \u001b[0mscore\u001b[0m \u001b[0;34m=\u001b[0m \u001b[0mnaive_sa\u001b[0m\u001b[0;34m.\u001b[0m\u001b[0mscore\u001b[0m\u001b[0;34m(\u001b[0m\u001b[0mX_test\u001b[0m\u001b[0;34m,\u001b[0m \u001b[0my_test\u001b[0m\u001b[0;34m)\u001b[0m\u001b[0;34m\u001b[0m\u001b[0;34m\u001b[0m\u001b[0m\n\u001b[0;32m----> 5\u001b[0;31m     \u001b[0mscore_all\u001b[0m \u001b[0;34m=\u001b[0m \u001b[0mnaive_sa\u001b[0m\u001b[0;34m.\u001b[0m\u001b[0mscore\u001b[0m\u001b[0;34m(\u001b[0m\u001b[0mX\u001b[0m\u001b[0;34m,\u001b[0m \u001b[0my\u001b[0m\u001b[0;34m)\u001b[0m\u001b[0;34m\u001b[0m\u001b[0;34m\u001b[0m\u001b[0m\n\u001b[0m\u001b[1;32m      6\u001b[0m     \u001b[0mprint\u001b[0m\u001b[0;34m(\u001b[0m\u001b[0;34m\" Score of Native SA test: \"\u001b[0m\u001b[0;34m,\u001b[0m \u001b[0mscore\u001b[0m\u001b[0;34m)\u001b[0m\u001b[0;34m\u001b[0m\u001b[0;34m\u001b[0m\u001b[0m\n\u001b[1;32m      7\u001b[0m     \u001b[0mprint\u001b[0m\u001b[0;34m(\u001b[0m\u001b[0;34m\" Score of Native SA all:  \"\u001b[0m\u001b[0;34m,\u001b[0m \u001b[0mscore_all\u001b[0m\u001b[0;34m)\u001b[0m\u001b[0;34m\u001b[0m\u001b[0;34m\u001b[0m\u001b[0m\n",
      "\u001b[0;32m/data/zibaldone/projects/ai/betchelorZhanna/python/sentimental_hwglu/naive_sa.py\u001b[0m in \u001b[0;36mscore\u001b[0;34m(self, X, y)\u001b[0m\n\u001b[1;32m    240\u001b[0m             \u001b[0;32mif\u001b[0m \u001b[0mself\u001b[0m\u001b[0;34m.\u001b[0m\u001b[0m_verbose\u001b[0m\u001b[0;34m:\u001b[0m \u001b[0mprint\u001b[0m\u001b[0;34m(\u001b[0m\u001b[0;34m\" processing {} / {} ({} %)\"\u001b[0m\u001b[0;34m.\u001b[0m\u001b[0mformat\u001b[0m\u001b[0;34m(\u001b[0m\u001b[0mdone\u001b[0m\u001b[0;34m,\u001b[0m \u001b[0mtot\u001b[0m\u001b[0;34m,\u001b[0m \u001b[0mdone\u001b[0m \u001b[0;34m*\u001b[0m \u001b[0;36m100\u001b[0m \u001b[0;34m//\u001b[0m \u001b[0mtot\u001b[0m\u001b[0;34m)\u001b[0m\u001b[0;34m,\u001b[0m \u001b[0mend\u001b[0m\u001b[0;34m=\u001b[0m\u001b[0;34m'\\r'\u001b[0m\u001b[0;34m)\u001b[0m\u001b[0;34m\u001b[0m\u001b[0;34m\u001b[0m\u001b[0m\n\u001b[1;32m    241\u001b[0m             \u001b[0mn\u001b[0m \u001b[0;34m+=\u001b[0m \u001b[0;36m1\u001b[0m\u001b[0;34m\u001b[0m\u001b[0;34m\u001b[0m\u001b[0m\n\u001b[0;32m--> 242\u001b[0;31m             \u001b[0;32mif\u001b[0m \u001b[0mself\u001b[0m\u001b[0;34m.\u001b[0m\u001b[0m_predict_sentence\u001b[0m\u001b[0;34m(\u001b[0m\u001b[0mx\u001b[0m\u001b[0;34m)\u001b[0m \u001b[0;34m==\u001b[0m \u001b[0mz\u001b[0m\u001b[0;34m:\u001b[0m\u001b[0;34m\u001b[0m\u001b[0;34m\u001b[0m\u001b[0m\n\u001b[0m\u001b[1;32m    243\u001b[0m                 \u001b[0mn_correct\u001b[0m \u001b[0;34m+=\u001b[0m \u001b[0;36m1\u001b[0m\u001b[0;34m\u001b[0m\u001b[0;34m\u001b[0m\u001b[0m\n\u001b[1;32m    244\u001b[0m             \u001b[0mdone\u001b[0m \u001b[0;34m+=\u001b[0m \u001b[0;36m1\u001b[0m\u001b[0;34m\u001b[0m\u001b[0;34m\u001b[0m\u001b[0m\n",
      "\u001b[0;32m/data/zibaldone/projects/ai/betchelorZhanna/python/sentimental_hwglu/naive_sa.py\u001b[0m in \u001b[0;36m_predict_sentence\u001b[0;34m(self, words)\u001b[0m\n\u001b[1;32m    149\u001b[0m                 \u001b[0mnot_counter\u001b[0m \u001b[0;34m=\u001b[0m \u001b[0mself\u001b[0m\u001b[0;34m.\u001b[0m\u001b[0m_max_not_counter\u001b[0m\u001b[0;34m\u001b[0m\u001b[0;34m\u001b[0m\u001b[0m\n\u001b[1;32m    150\u001b[0m                 \u001b[0;32mcontinue\u001b[0m\u001b[0;34m\u001b[0m\u001b[0;34m\u001b[0m\u001b[0m\n\u001b[0;32m--> 151\u001b[0;31m             \u001b[0mword_is_good\u001b[0m \u001b[0;34m=\u001b[0m \u001b[0mis_good\u001b[0m\u001b[0;34m(\u001b[0m\u001b[0mword\u001b[0m\u001b[0;34m)\u001b[0m\u001b[0;34m\u001b[0m\u001b[0;34m\u001b[0m\u001b[0m\n\u001b[0m\u001b[1;32m    152\u001b[0m             \u001b[0mword_is_bad\u001b[0m \u001b[0;34m=\u001b[0m \u001b[0mis_bad\u001b[0m\u001b[0;34m(\u001b[0m\u001b[0mword\u001b[0m\u001b[0;34m)\u001b[0m \u001b[0;32mif\u001b[0m \u001b[0;32mnot\u001b[0m \u001b[0mword_is_good\u001b[0m \u001b[0;32melse\u001b[0m \u001b[0;32mFalse\u001b[0m\u001b[0;34m\u001b[0m\u001b[0;34m\u001b[0m\u001b[0m\n\u001b[1;32m    153\u001b[0m             \u001b[0;32mif\u001b[0m \u001b[0;34m(\u001b[0m\u001b[0mword_is_good\u001b[0m \u001b[0;32mand\u001b[0m \u001b[0mnot_counter\u001b[0m \u001b[0;34m<=\u001b[0m \u001b[0;36m0\u001b[0m\u001b[0;34m)\u001b[0m \u001b[0;32mor\u001b[0m \u001b[0;34m(\u001b[0m\u001b[0mword_is_bad\u001b[0m \u001b[0;32mand\u001b[0m \u001b[0mnot_counter\u001b[0m \u001b[0;34m>\u001b[0m \u001b[0;36m0\u001b[0m\u001b[0;34m)\u001b[0m\u001b[0;34m:\u001b[0m\u001b[0;34m\u001b[0m\u001b[0;34m\u001b[0m\u001b[0m\n",
      "\u001b[0;32m/data/zibaldone/projects/ai/betchelorZhanna/python/sentimental_hwglu/naive_sa.py\u001b[0m in \u001b[0;36mis_good\u001b[0;34m(word)\u001b[0m\n\u001b[1;32m     97\u001b[0m \u001b[0;34m\u001b[0m\u001b[0m\n\u001b[1;32m     98\u001b[0m \u001b[0;32mdef\u001b[0m \u001b[0mis_good\u001b[0m\u001b[0;34m(\u001b[0m\u001b[0mword\u001b[0m\u001b[0;34m:\u001b[0m \u001b[0mstr\u001b[0m\u001b[0;34m)\u001b[0m \u001b[0;34m->\u001b[0m \u001b[0mbool\u001b[0m\u001b[0;34m:\u001b[0m\u001b[0;34m\u001b[0m\u001b[0;34m\u001b[0m\u001b[0m\n\u001b[0;32m---> 99\u001b[0;31m     \u001b[0;32mreturn\u001b[0m \u001b[0mword\u001b[0m\u001b[0;34m.\u001b[0m\u001b[0mlower\u001b[0m\u001b[0;34m(\u001b[0m\u001b[0;34m)\u001b[0m \u001b[0;32min\u001b[0m \u001b[0m_positive_words\u001b[0m\u001b[0;34m\u001b[0m\u001b[0;34m\u001b[0m\u001b[0m\n\u001b[0m\u001b[1;32m    100\u001b[0m \u001b[0;34m\u001b[0m\u001b[0m\n\u001b[1;32m    101\u001b[0m \u001b[0;32mdef\u001b[0m \u001b[0mis_bad\u001b[0m\u001b[0;34m(\u001b[0m\u001b[0mword\u001b[0m\u001b[0;34m:\u001b[0m \u001b[0mstr\u001b[0m\u001b[0;34m)\u001b[0m \u001b[0;34m->\u001b[0m \u001b[0mbool\u001b[0m\u001b[0;34m:\u001b[0m\u001b[0;34m\u001b[0m\u001b[0;34m\u001b[0m\u001b[0m\n",
      "\u001b[0;31mKeyboardInterrupt\u001b[0m: "
     ]
    }
   ],
   "source": [
    "scores_all = {}\n",
    "scores = {}\n",
    "for n in [100, 1000, 5000, 10000, 25000, 30000, 40000, len(df) - 100]:\n",
    "    for m in range(10):\n",
    "        print(\" --------------------\")\n",
    "        print(\" running with test_size = \", n/len(df))\n",
    "        X_train, X_test, y_train, y_test = train_test_split(df.reviews, df.sentiment, test_size=1 - n/len(df))\n",
    "        print(\" train-size: {}, test-test: {}\".format(len(y_train), len(y_test)))\n",
    "        s, s_a = test_naive(X_train, y_train, X_test, y_test, df.reviews, df.sentiment)\n",
    "        if m == 0:\n",
    "            scores[n] = [s]\n",
    "            scores_all[n] = [s_a]\n",
    "        else:\n",
    "            scores[n].append(s)\n",
    "            scores_all[n].append(s_a)\n",
    "\n"
   ]
  },
  {
   "cell_type": "code",
   "execution_count": null,
   "metadata": {},
   "outputs": [
    {
     "name": "stdout",
     "output_type": "stream",
     "text": [
      "40000 :  (0.7004, 0.70208)\n",
      "30000 :  (0.69935, 0.69926)\n",
      "25000 :  (0.6986, 0.69896)\n",
      "10000 :  (0.6947, 0.69524)\n",
      "5000 :  (0.6905333333333333, 0.69028)\n",
      "1000 :  (0.689204081632653, 0.68934)\n",
      "100 :  (0.6892384769539078, 0.68928)\n"
     ]
    }
   ],
   "source": [
    "keys = list(scores.keys())\n",
    "keys.sort(reverse=True)\n",
    "for k in keys:\n",
    "    print(k, \": \", scores[k])\n",
    "\n",
    "keys = list(scores_all.keys())\n",
    "keys.sort(reverse=True)\n",
    "for k in keys:\n",
    "    print(k, \": \", scores_all[k])"
   ]
  }
 ],
 "metadata": {
  "kernelspec": {
   "display_name": ".venv",
   "language": "python",
   "name": "python3"
  },
  "language_info": {
   "codemirror_mode": {
    "name": "ipython",
    "version": 3
   },
   "file_extension": ".py",
   "mimetype": "text/x-python",
   "name": "python",
   "nbconvert_exporter": "python",
   "pygments_lexer": "ipython3",
   "version": "3.10.12"
  },
  "orig_nbformat": 4
 },
 "nbformat": 4,
 "nbformat_minor": 2
}
