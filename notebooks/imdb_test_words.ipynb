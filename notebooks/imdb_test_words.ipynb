{
 "cells": [
  {
   "cell_type": "markdown",
   "metadata": {},
   "source": [
    "### IMDB dataset Words\n",
    "\n",
    "This notebook will help to explore the data set `imdb`: in particular it will try to sort the words in reviews according to their importance in the two opinion-groups."
   ]
  },
  {
   "cell_type": "code",
   "execution_count": 1,
   "metadata": {},
   "outputs": [],
   "source": [
    "%load_ext autoreload\n",
    "%autoreload 2\n",
    "\n",
    "\n",
    "from sentimental_hwglu.naive_sa import NaiveSA\n",
    "from sentimental_hwglu.utils import *\n",
    "from sentimental_hwglu.words_statistics import WordStatistics\n",
    "from sklearn.feature_extraction.text import CountVectorizer\n",
    "\n",
    "import pandas as pd\n",
    "import matplotlib.pyplot as plt\n",
    "import numpy as np\n",
    "\n",
    "import time\n",
    "import re\n"
   ]
  },
  {
   "cell_type": "code",
   "execution_count": 2,
   "metadata": {},
   "outputs": [],
   "source": [
    "data_directory = None"
   ]
  },
  {
   "cell_type": "markdown",
   "metadata": {},
   "source": [
    "#### Load Data"
   ]
  },
  {
   "cell_type": "code",
   "execution_count": 3,
   "metadata": {},
   "outputs": [
    {
     "name": "stdout",
     "output_type": "stream",
     "text": [
      "Project directory: \n"
     ]
    }
   ],
   "source": [
    "if data_directory is None:\n",
    "    print(\"Project directory: \")\n",
    "    data_directory = input()"
   ]
  },
  {
   "cell_type": "code",
   "execution_count": 4,
   "metadata": {},
   "outputs": [],
   "source": [
    "project = Project(data_directory)\n",
    "df = loadIMDBdataset(filename=project.csv_filename_extened)\n",
    "n_reviews = len(df.reviews)"
   ]
  },
  {
   "cell_type": "code",
   "execution_count": 5,
   "metadata": {},
   "outputs": [
    {
     "name": "stdout",
     "output_type": "stream",
     "text": [
      " running set_words  1 / 2\n",
      " tokenization for review  [################### ] 96.0%\n",
      " tokenization took  1.777862310409546  sec.\n",
      " running set_words  2 / 2\n",
      " tokenization for review  [################### ] 96.0%\n",
      " tokenization took  1.6631364822387695  sec.\n",
      " create common words\n",
      " function executed in 0.2087s\n",
      " create only negative words\n",
      " function executed in 0.0393s\n",
      " create only positive words\n",
      " function executed in 0.0411s\n",
      " function executed in 3.7632s\n"
     ]
    }
   ],
   "source": [
    "ws = WordStatistics(df, 'stamm')\n",
    "ws.createWordsSets()"
   ]
  },
  {
   "cell_type": "code",
   "execution_count": null,
   "metadata": {},
   "outputs": [],
   "source": []
  },
  {
   "cell_type": "code",
   "execution_count": null,
   "metadata": {},
   "outputs": [],
   "source": []
  },
  {
   "cell_type": "code",
   "execution_count": 9,
   "metadata": {},
   "outputs": [],
   "source": [
    "\n",
    "dir = project.basedir + '/datasets/words/'\n",
    "df_w_common = pd.read_csv(dir + '/frequencies_words_common.csv', sep=';', index_col=False)\n",
    "df_w_pos = pd.read_csv(dir + '/frequencies_words_only_pos.csv', sep=';', index_col=False)\n",
    "df_w_neg = pd.read_csv(dir + '/frequencies_words_only_neg.csv', sep=';', index_col=False)\n",
    "df_w_common_stamm = pd.read_csv(dir + '/frequencies_words_stamm_common.csv', sep=';', index_col=False)\n",
    "df_w_pos_stamm = pd.read_csv(dir + '/frequencies_words_stamm_only_pos.csv', sep=';', index_col=False)\n",
    "df_w_neg_stamm = pd.read_csv(dir + '/frequencies_words_stamm_only_neg.csv', sep=';', index_col=False)\n",
    "\n",
    "df = pd.DataFrame()\n",
    "df['nur pos. word'] = df_w_pos_stamm.sort_values('count_use', ascending=False, ignore_index=True).head(n=5).word\n",
    "df['count'] = df_w_pos_stamm.sort_values('count_use', ascending=False, ignore_index=True).head(n=5).count_use\n",
    "df['nur neg. word'] = df_w_neg_stamm.sort_values('count_use', ascending=False, ignore_index=True).head(n=5).word\n",
    "df['count '] = df_w_neg_stamm.sort_values('count_use', ascending=False, ignore_index=True).head(n=5).count_use"
   ]
  },
  {
   "cell_type": "code",
   "execution_count": null,
   "metadata": {},
   "outputs": [],
   "source": []
  },
  {
   "cell_type": "code",
   "execution_count": 10,
   "metadata": {},
   "outputs": [
    {
     "name": "stdout",
     "output_type": "stream",
     "text": [
      "********************************\n",
      "common:     54273\n",
      "positive:   51309\n",
      "negative:   49249\n",
      "     + ------------------------\n",
      "           154831\n",
      "\n",
      "********************************\n",
      "common:     38317\n",
      "positive:   42959\n",
      "negative:   41486\n",
      "     + ------------------------\n",
      "           122762\n"
     ]
    }
   ],
   "source": [
    "print(\"********************************\")\n",
    "print(\"common:    \", len(df_w_common))\n",
    "print(\"positive:  \", len(df_w_pos))\n",
    "print(\"negative:  \", len(df_w_neg))\n",
    "print(\"     + ------------------------\")\n",
    "print(\"          \", len(df_w_pos) + len(df_w_neg) + len(df_w_common))\n",
    "print()\n",
    "print(\"********************************\")\n",
    "print(\"common:    \", len(df_w_common_stamm))\n",
    "print(\"positive:  \", len(df_w_pos_stamm))\n",
    "print(\"negative:  \", len(df_w_neg_stamm))\n",
    "print(\"     + ------------------------\")\n",
    "print(\"          \", len(df_w_pos_stamm) + len(df_w_neg_stamm) + len(df_w_common_stamm))"
   ]
  },
  {
   "cell_type": "code",
   "execution_count": 10,
   "metadata": {},
   "outputs": [],
   "source": [
    "df_tot = pd.DataFrame()\n",
    "df_tot_stamm = pd.DataFrame()"
   ]
  },
  {
   "cell_type": "code",
   "execution_count": 11,
   "metadata": {},
   "outputs": [],
   "source": [
    "df_tot = pd.concat([df_w_common, df_w_neg, df_w_pos])\n",
    "df_tot_stamm = pd.concat([df_w_common_stamm, df_w_neg_stamm, df_w_pos_stamm])"
   ]
  },
  {
   "cell_type": "code",
   "execution_count": 12,
   "metadata": {},
   "outputs": [
    {
     "name": "stdout",
     "output_type": "stream",
     "text": [
      "words:         154830\n",
      "words(stamm):  122761\n"
     ]
    }
   ],
   "source": [
    "print(\"words:        \", len(df_tot.word.unique()))\n",
    "print(\"words(stamm): \", len(df_tot_stamm.word.unique()))"
   ]
  },
  {
   "cell_type": "code",
   "execution_count": 13,
   "metadata": {},
   "outputs": [
    {
     "data": {
      "text/html": [
       "<div>\n",
       "<style scoped>\n",
       "    .dataframe tbody tr th:only-of-type {\n",
       "        vertical-align: middle;\n",
       "    }\n",
       "\n",
       "    .dataframe tbody tr th {\n",
       "        vertical-align: top;\n",
       "    }\n",
       "\n",
       "    .dataframe thead th {\n",
       "        text-align: right;\n",
       "    }\n",
       "</style>\n",
       "<table border=\"1\" class=\"dataframe\">\n",
       "  <thead>\n",
       "    <tr style=\"text-align: right;\">\n",
       "      <th></th>\n",
       "      <th>word</th>\n",
       "      <th>count_use</th>\n",
       "      <th>count_positive</th>\n",
       "      <th>count_negative</th>\n",
       "      <th>fraction_positive</th>\n",
       "      <th>fraction_negative</th>\n",
       "    </tr>\n",
       "  </thead>\n",
       "  <tbody>\n",
       "    <tr>\n",
       "      <th>0</th>\n",
       "      <td>estim</td>\n",
       "      <td>62</td>\n",
       "      <td>30</td>\n",
       "      <td>32</td>\n",
       "      <td>0.483871</td>\n",
       "      <td>0.516129</td>\n",
       "    </tr>\n",
       "    <tr>\n",
       "      <th>1</th>\n",
       "      <td>urban</td>\n",
       "      <td>388</td>\n",
       "      <td>275</td>\n",
       "      <td>113</td>\n",
       "      <td>0.708763</td>\n",
       "      <td>0.291237</td>\n",
       "    </tr>\n",
       "    <tr>\n",
       "      <th>2</th>\n",
       "      <td>hawk'</td>\n",
       "      <td>30</td>\n",
       "      <td>27</td>\n",
       "      <td>3</td>\n",
       "      <td>0.900000</td>\n",
       "      <td>0.100000</td>\n",
       "    </tr>\n",
       "    <tr>\n",
       "      <th>3</th>\n",
       "      <td>saiyan</td>\n",
       "      <td>5</td>\n",
       "      <td>1</td>\n",
       "      <td>4</td>\n",
       "      <td>0.200000</td>\n",
       "      <td>0.800000</td>\n",
       "    </tr>\n",
       "    <tr>\n",
       "      <th>4</th>\n",
       "      <td>knit</td>\n",
       "      <td>46</td>\n",
       "      <td>20</td>\n",
       "      <td>26</td>\n",
       "      <td>0.434783</td>\n",
       "      <td>0.565217</td>\n",
       "    </tr>\n",
       "  </tbody>\n",
       "</table>\n",
       "</div>"
      ],
      "text/plain": [
       "     word  count_use  count_positive  count_negative  fraction_positive  \\\n",
       "0   estim         62              30              32           0.483871   \n",
       "1   urban        388             275             113           0.708763   \n",
       "2   hawk'         30              27               3           0.900000   \n",
       "3  saiyan          5               1               4           0.200000   \n",
       "4    knit         46              20              26           0.434783   \n",
       "\n",
       "   fraction_negative  \n",
       "0           0.516129  \n",
       "1           0.291237  \n",
       "2           0.100000  \n",
       "3           0.800000  \n",
       "4           0.565217  "
      ]
     },
     "execution_count": 13,
     "metadata": {},
     "output_type": "execute_result"
    }
   ],
   "source": [
    "df_w_common_stamm.head()"
   ]
  },
  {
   "cell_type": "code",
   "execution_count": 11,
   "metadata": {},
   "outputs": [
    {
     "name": "stdout",
     "output_type": "stream",
     "text": [
      "\\begin{tabular}{lrrr}\n",
      "\\toprule\n",
      "     word &  count\\_use &  count\\_positive &  fraction\\_positive \\\\\n",
      "\\midrule\n",
      "   superb &       1291 &            1108 &           0.858249 \\\\\n",
      "  delight &       1057 &             872 &           0.824976 \\\\\n",
      "    excel &       4424 &            3624 &           0.819168 \\\\\n",
      "  fantast &       1623 &            1302 &           0.802218 \\\\\n",
      "  perfect &       3440 &            2686 &           0.780814 \\\\\n",
      "brilliant &       2395 &            1864 &           0.778288 \\\\\n",
      "  favorit &       2763 &            2145 &           0.776330 \\\\\n",
      "perfectli &       1283 &             984 &           0.766952 \\\\\n",
      "    uniqu &       1330 &            1008 &           0.757895 \\\\\n",
      "     amaz &       3000 &            2261 &           0.753667 \\\\\n",
      "\\bottomrule\n",
      "\\end{tabular}\n",
      "\n",
      "\\begin{tabular}{lrrr}\n",
      "\\toprule\n",
      "   word &  count\\_use &  count\\_negative &  fraction\\_negative \\\\\n",
      "\\midrule\n",
      "  worst &       5302 &            4858 &           0.916258 \\\\\n",
      "   wast &       4360 &            3986 &           0.914220 \\\\\n",
      " poorli &       1335 &            1207 &           0.904120 \\\\\n",
      "     aw &       3592 &            3240 &           0.902004 \\\\\n",
      "   lame &       1395 &            1233 &           0.883871 \\\\\n",
      " pathet &       1046 &             914 &           0.873805 \\\\\n",
      "horribl &       2962 &            2537 &           0.856516 \\\\\n",
      "   crap &       2044 &            1743 &           0.852740 \\\\\n",
      "terribl &       3837 &            3253 &           0.847798 \\\\\n",
      "   wors &       2919 &            2463 &           0.843782 \\\\\n",
      "\\bottomrule\n",
      "\\end{tabular}\n",
      "\n",
      "\\begin{tabular}{lrlr}\n",
      "\\toprule\n",
      "nur pos. word &  count & nur neg. word &  count  \\\\\n",
      "\\midrule\n",
      "        ponyo &    135 &     carnosaur &      67 \\\\\n",
      "         prot &     81 &        komodo &      63 \\\\\n",
      "        gunga &     63 &       piranha &      59 \\\\\n",
      "         prue &     60 &        tashan &      44 \\\\\n",
      "        yokai &     58 &     cornfield &      42 \\\\\n",
      "\\bottomrule\n",
      "\\end{tabular}\n",
      "\n"
     ]
    }
   ],
   "source": [
    "print(df_w_common_stamm.sort_values('count_use', ascending=False).head(n=1000).sort_values('fraction_positive', ascending=False).head(10).to_latex(index=False, columns=['word', 'count_use', 'count_positive', 'fraction_positive']))\n",
    "print(df_w_common_stamm.sort_values('count_use', ascending=False).head(n=1000).sort_values('fraction_negative', ascending=False).head(10).to_latex(index=False, columns=['word', 'count_use', 'count_negative', 'fraction_negative']))\n",
    "print(df.to_latex(index=False))"
   ]
  },
  {
   "cell_type": "code",
   "execution_count": 21,
   "metadata": {},
   "outputs": [
    {
     "data": {
      "text/plain": [
       "0.8582494190549961"
      ]
     },
     "execution_count": 21,
     "metadata": {},
     "output_type": "execute_result"
    }
   ],
   "source": [
    "df_w_common_stamm.query(\"word == 'superb'\")['fraction_positive'].values[0]"
   ]
  },
  {
   "cell_type": "code",
   "execution_count": 28,
   "metadata": {},
   "outputs": [
    {
     "data": {
      "text/plain": [
       "array(['superb', 'delight', 'excel', 'fantast', 'perfect', 'brilliant',\n",
       "       'favorit', 'perfectli', 'uniqu', 'amaz', 'highli', 'today',\n",
       "       'greatest', 'beauti', 'complex', 'touch', 'sweet', 'oscar',\n",
       "       'intens', 'masterpiec', 'strong', 'great', 'season', 'fascin'],\n",
       "      dtype=object)"
      ]
     },
     "execution_count": 28,
     "metadata": {},
     "output_type": "execute_result"
    }
   ],
   "source": [
    "df_w_common_stamm.sort_values('count_use', ascending=False).head(n=1000).sort_values('fraction_positive', ascending=False).query(\"fraction_positive > 0.7\")['word'].values"
   ]
  },
  {
   "cell_type": "code",
   "execution_count": null,
   "metadata": {},
   "outputs": [
    {
     "name": "stdout",
     "output_type": "stream",
     "text": [
      "\\begin{tabular}{llrrrrr}\n",
      "\\toprule\n",
      "{} &       word &  count\\_use &  count\\_positive &  count\\_negative &   fraction\\_positive &   fraction\\_negative \\\\\n",
      "\\midrule\n",
      "33204 &  carnosaur &         67 &               0 &              67 &                 0.0 &                 1.0 \\\\\n",
      "35930 &     komodo &         63 &               0 &              63 &                 0.0 &                 1.0 \\\\\n",
      "1455  &    piranha &         59 &               0 &              59 &                 0.0 &                 1.0 \\\\\n",
      "3617  &     tashan &         44 &               0 &              44 &                 0.0 &                 1.0 \\\\\n",
      "28135 &  cornfield &         42 &               0 &              42 &                 0.0 &                 1.0 \\\\\n",
      "\\bottomrule\n",
      "\\end{tabular}\n",
      "\n"
     ]
    }
   ],
   "source": [
    "print(df_w_neg_stamm.sort_values('count_use', ascending=False).head(n=5).to_latex())"
   ]
  },
  {
   "cell_type": "code",
   "execution_count": null,
   "metadata": {},
   "outputs": [],
   "source": []
  }
 ],
 "metadata": {
  "kernelspec": {
   "display_name": ".venv",
   "language": "python",
   "name": "python3"
  },
  "language_info": {
   "codemirror_mode": {
    "name": "ipython",
    "version": 3
   },
   "file_extension": ".py",
   "mimetype": "text/x-python",
   "name": "python",
   "nbconvert_exporter": "python",
   "pygments_lexer": "ipython3",
   "version": "3.10.12"
  }
 },
 "nbformat": 4,
 "nbformat_minor": 2
}
